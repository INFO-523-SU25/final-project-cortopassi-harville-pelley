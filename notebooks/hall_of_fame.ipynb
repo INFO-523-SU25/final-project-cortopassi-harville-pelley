{
 "cells": [
  {
   "cell_type": "markdown",
   "id": "c9bd1bc1",
   "metadata": {},
   "source": [
    "# MLB Hall of Fame Predictor\n",
    "\n",
    "**INFO 523 Data Mining**  \n",
    "**Authors: Austin Cortopassi, David Pelley, Nathan Harville**  \n",
    "**Professor: Dr. Greg Chism**\n",
    "\n",
    "**Questions:**\n",
    "Can we predict whether a player will be inducted into the MLB Hall of Fame based on their career statistics and achievements?  \n",
    "What features (e.g., batting stats, pitching metrics, postseason performance) are most predictive of a Hall of Fame induction?"
   ]
  },
  {
   "cell_type": "code",
   "execution_count": 49,
   "id": "6b770362",
   "metadata": {},
   "outputs": [],
   "source": [
    "import numpy as np\n",
    "import pandas as pd"
   ]
  },
  {
   "cell_type": "markdown",
   "id": "2bd6eabf",
   "metadata": {},
   "source": [
    "# Data Prep"
   ]
  },
  {
   "cell_type": "code",
   "execution_count": 50,
   "id": "c8b46d75",
   "metadata": {},
   "outputs": [],
   "source": [
    "# load all datasets into separate variables\n",
    "people = pd.read_csv(\"..\\data\\People.csv\")\n",
    "batting = pd.read_csv(\"..\\data\\Batting.csv\")\n",
    "pitching = pd.read_csv(\"..\\data\\Pitching.csv\")\n",
    "fielding = pd.read_csv(\"..\\data\\Fielding.csv\")\n",
    "teams = pd.read_csv(\"..\\data\\Teams.csv\")\n",
    "batting_post = pd.read_csv(\"..\\data\\BattingPost.csv\")\n",
    "pitching_post = pd.read_csv(\"..\\data\\PitchingPost.csv\")\n",
    "fielding_post = pd.read_csv(\"..\\data\\FieldingPost.csv\")\n",
    "hall_of_fame = pd.read_csv(\"..\\data\\HallOfFame.csv\")\n",
    "awards_players = pd.read_csv(\"..\\data\\AwardsPlayers.csv\")\n",
    "awards_players_shared = pd.read_csv(\"..\\data\\AwardsSharePlayers.csv\")"
   ]
  },
  {
   "cell_type": "code",
   "execution_count": 51,
   "id": "7c93b970",
   "metadata": {},
   "outputs": [],
   "source": [
    "# Prep individual datasets before merging\n",
    "\n",
    "# drop unused columns from people dataset such as alternate IDs, death and birth information\n",
    "people = people.drop(columns=['birthYear','birthMonth','birthDay','birthCountry','birthState','birthCity','deathYear','deathMonth','deathDay','deathCountry','deathState','deathCity','retroID','bbrefID'])\n",
    "\n",
    "# drop unused columns from batting dataset; stint and league ID\n",
    "batting = batting.drop(columns=['stint','lgID'])\n",
    "\n",
    "# drop unused columns from pitching dataset; stint and league ID\n",
    "pitching = pitching.drop(columns=['stint','lgID'])\n",
    "\n",
    "# drop unused columns from fielding dataset; stint and league ID\n",
    "fielding = fielding.drop(columns=['stint','lgID'])\n",
    "\n",
    "# drop unused columns from teams dataset; only want to include the yearID, teamID, Wins, Losses, and their postseason performance\n",
    "teams = teams[['yearID','teamID','Rank','W','L','G','DivWin','WCWin','LgWin','WSWin']]\n",
    "\n",
    "# convert postseason team success to numeric (1 for 'Y', 0 for 'N')\n",
    "for col in ['DivWin', 'WCWin', 'LgWin', 'WSWin']:\n",
    "    teams[col] = teams[col].apply(lambda x: 1 if x == 'Y' else 0)\n",
    "\n",
    "# drop unused columns from postseason batting dataset; leagueID and round\n",
    "batting_post = batting_post.drop(columns=['round','lgID'])\n",
    "\n",
    "# drop unused columns from postseason pitching dataset; leagueID and round\n",
    "pitching_post = pitching_post.drop(columns=['round','lgID'])\n",
    "\n",
    "# drop unused columns from postseason fielding dataset; leagueID and round\n",
    "fielding_post = fielding_post.drop(columns=['round','lgID'])\n",
    "\n",
    "# drop unused columns from hall of fame dataset; only need the playerID to merge and determination of whether they made the HOF\n",
    "hall_of_fame = hall_of_fame[['playerID','inducted']]\n",
    "\n",
    "# drop unused columns in awards and awards shared\n",
    "awards_players = awards_players.drop(columns=['lgID','notes'])\n",
    "awards_players_shared = awards_players_shared.drop(columns=['lgID'])"
   ]
  },
  {
   "cell_type": "markdown",
   "id": "f1c77aac",
   "metadata": {},
   "source": [
    "# Preliminary Data Merging\n",
    "\n",
    "I must merge some datasets before cleaning in order to ensure the data isn't cleaned"
   ]
  },
  {
   "cell_type": "code",
   "execution_count": null,
   "id": "39e6cf0d",
   "metadata": {},
   "outputs": [],
   "source": [
    "# merge batting and pitching with team data\n",
    "player_team_data_batting = batting.merge(teams[['yearID','teamID','W','G','DivWin', 'WCWin', 'LgWin', 'WSWin']], on=['yearID','teamID'], how='left')\n",
    "player_team_data_pitching = pitching.merge(teams[['yearID','teamID','W','G','DivWin', 'WCWin', 'LgWin', 'WSWin']], on=['yearID','teamID'], how='left')\n",
    "\n",
    "career_team_success_batting = player_team_data_batting.groupby('playerID').agg({\n",
    "    'DivWin': 'sum',\n",
    "    'WCWin': 'sum',\n",
    "    'LgWin': 'sum',\n",
    "    'WSWin': 'sum'\n",
    "}).reset_index()\n",
    "\n",
    "career_team_success_pitching = player_team_data_pitching.groupby('playerID').agg({\n",
    "    'DivWin': 'sum',\n",
    "    'WCWin': 'sum',\n",
    "    'LgWin': 'sum',\n",
    "    'WSWin': 'sum'\n",
    "}).reset_index()\n",
    "\n",
    "career_team_success_pitching.rename(columns={\n",
    "    'DivWin': 'career_DivWin',\n",
    "    'WCWin': 'career_WCWin',\n",
    "    'LgWin': 'career_LgWin',\n",
    "    'WSWin': 'career_WSWin'\n",
    "}, inplace=True)"
   ]
  },
  {
   "cell_type": "markdown",
   "id": "4ed3caba",
   "metadata": {},
   "source": [
    "# Data Cleaning"
   ]
  },
  {
   "cell_type": "code",
   "execution_count": 53,
   "id": "4ef79bdc",
   "metadata": {},
   "outputs": [],
   "source": [
    "# career batting totals\n",
    "batting_career = batting.groupby(\"playerID\").sum(numeric_only=True).reset_index()\n",
    "\n",
    "# career postseason batting totals\n",
    "batting_post_totals = batting_post.groupby(\"playerID\").sum(numeric_only=True).reset_index()\n",
    "\n",
    "# rename columns to include a post prefix (need to skip playerID)\n",
    "batting_post_totals = batting_post_totals.rename(columns={col: f\"post_{col}\" for col in batting_post_totals.columns if col != \"playerID\"})\n",
    "\n",
    "# career pitching totals\n",
    "pitching_career = pitching.groupby(\"playerID\").sum(numeric_only=True).reset_index()\n",
    "\n",
    "# career postseason pitching totals\n",
    "pitching_post_totals = pitching_post.groupby(\"playerID\").sum(numeric_only=True).reset_index()\n",
    "\n",
    "# rename columns to include a post prefix (need to skip playerID)\n",
    "pitching_post_totals = pitching_post_totals.rename(columns={col: f\"post_{col}\" for col in pitching_post_totals.columns if col != \"playerID\"})\n",
    "\n",
    "# career fielding totals\n",
    "fielding_career = fielding.groupby(\"playerID\").sum(numeric_only=True).reset_index()\n",
    "\n",
    "# career postseason fielding totals\n",
    "fielding_post_totals = fielding_post.groupby(\"playerID\").sum(numeric_only=True).reset_index()\n",
    "\n",
    "# rename columns to include a post prefix (need to skip playerID)\n",
    "fielding_post_totals = fielding_post_totals.rename(columns={col: f\"post_{col}\" for col in fielding_post_totals.columns if col != \"playerID\"})\n",
    "\n",
    "# make inducted in HOF a binary representation\n",
    "hall_of_fame[\"inducted\"] = hall_of_fame[\"inducted\"].map({\"Y\": 1, \"N\": 0})"
   ]
  }
 ],
 "metadata": {
  "kernelspec": {
   "display_name": "Python 3",
   "language": "python",
   "name": "python3"
  },
  "language_info": {
   "codemirror_mode": {
    "name": "ipython",
    "version": 3
   },
   "file_extension": ".py",
   "mimetype": "text/x-python",
   "name": "python",
   "nbconvert_exporter": "python",
   "pygments_lexer": "ipython3",
   "version": "3.11.9"
  }
 },
 "nbformat": 4,
 "nbformat_minor": 5
}

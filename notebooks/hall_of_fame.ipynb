{
 "cells": [
  {
   "cell_type": "markdown",
   "id": "c9bd1bc1",
   "metadata": {},
   "source": [
    "# MLB Hall of Fame Predictor\n",
    "\n",
    "**INFO 523 Data Mining**  \n",
    "**Authors: Austin Cortopassi, David Pelley, Nathan Harville**  \n",
    "**Professor: Dr. Greg Chism**\n",
    "\n",
    "**Questions:**\n",
    "Can we predict whether a player will be inducted into the MLB Hall of Fame based on their career statistics and achievements?  \n",
    "What features (e.g., batting stats, pitching metrics, postseason performance) are most predictive of a Hall of Fame induction?"
   ]
  },
  {
   "cell_type": "code",
   "execution_count": 1,
   "id": "6b770362",
   "metadata": {},
   "outputs": [],
   "source": [
    "import numpy as np\n",
    "import pandas as pd"
   ]
  },
  {
   "cell_type": "markdown",
   "id": "2bd6eabf",
   "metadata": {},
   "source": [
    "# Data Prep"
   ]
  },
  {
   "cell_type": "code",
   "execution_count": 28,
   "id": "c8b46d75",
   "metadata": {},
   "outputs": [],
   "source": [
    "# load all datasets into separate variables\n",
    "people = pd.read_csv(\"..\\data\\People.csv\")\n",
    "batting = pd.read_csv(\"..\\data\\Batting.csv\")\n",
    "pitching = pd.read_csv(\"..\\data\\Pitching.csv\")\n",
    "fielding = pd.read_csv(\"..\\data\\Fielding.csv\")\n",
    "teams = pd.read_csv(\"..\\data\\Teams.csv\")\n",
    "batting_post = pd.read_csv(\"..\\data\\BattingPost.csv\")\n",
    "pitching_post = pd.read_csv(\"..\\data\\PitchingPost.csv\")\n",
    "fielding_post = pd.read_csv(\"..\\data\\FieldingPost.csv\")\n",
    "hall_of_fame = pd.read_csv(\"..\\data\\HallOfFame.csv\")\n",
    "awards_players = pd.read_csv(\"..\\data\\AwardsPlayers.csv\")\n",
    "awards_players_shared = pd.read_csv(\"..\\data\\AwardsSharePlayers.csv\")"
   ]
  },
  {
   "cell_type": "code",
   "execution_count": null,
   "id": "7c93b970",
   "metadata": {},
   "outputs": [],
   "source": [
    "# Prep individual datasets before merging\n",
    "\n",
    "# drop unused columns from people dataset such as alternate IDs, death and birth information\n",
    "people = people.drop(columns=['birthYear','birthMonth','birthDay','birthCountry','birthState','birthCity','deathYear','deathMonth','deathDay','deathCountry','deathState','deathCity','retroID','bbrefID'])\n",
    "\n",
    "# drop unused columns from batting dataset; stint and league ID\n",
    "batting = batting.drop(columns=['stint','lgID'])\n",
    "\n",
    "# drop unused columns from pitching dataset; stint and league ID\n",
    "pitching = pitching.drop(columns=['stint','lgID'])\n",
    "\n",
    "# drop unused columns from fielding dataset; stint and league ID\n",
    "fielding = fielding.drop(columns=['stint','lgID'])\n",
    "\n",
    "# drop unused columns from teams dataset; only want to include the yearID, teamID, Wins, Losses, and their postseason performance\n",
    "teams = teams[['yearID','teamID','Rank','W','L','DivWin','WCWin','LgWin','WSWin']]\n",
    "\n",
    "# drop unused columns from postseason batting dataset; leagueID and round\n",
    "batting_post = batting_post.drop(columns=['round','lgID'])\n",
    "\n",
    "# drop unused columns from postseason pitching dataset; leagueID and round\n",
    "pitching_post = pitching_post.drop(columns=['round','lgID'])\n",
    "\n",
    "# drop unused columns from postseason fielding dataset; leagueID and round\n",
    "fielding_post = fielding_post.drop(columns=['round','lgID'])\n",
    "\n",
    "# drop unused columns from hall of fame dataset; voted by, category, and needed note\n",
    "hall_of_fame = hall_of_fame.drop(columns=['votedBy','category','needed_note'])\n",
    "\n",
    "# drop unused columns in awards and awards shared\n",
    "awards_players = awards_players.drop(columns=['lgID','notes'])\n",
    "awards_players_shared = awards_players_shared.drop(columns=['lgID'])\n",
    "\n",
    "# # Merge batting with people on playerID (inner join keeps only players with batting data)\n",
    "# df = pd.merge(batting, people, on=\"playerID\", how=\"inner\")\n",
    "\n",
    "# # Merge pitching\n",
    "# df = pd.merge(df, pitching, on=\"playerID\", how=\"left\")  # left join to keep batting + people\n",
    "\n",
    "# # Merge fielding\n",
    "# df = pd.merge(df, fielding, on=\"playerID\", how=\"left\")\n",
    "\n",
    "# # Merge hall of fame\n",
    "# df = pd.merge(df, hall_of_fame, on=\"playerID\", how=\"left\")\n",
    "\n",
    "# # Now df has info combined from all datasets on playerID\n",
    "# print(df.shape)\n",
    "# print(df.head())"
   ]
  }
 ],
 "metadata": {
  "kernelspec": {
   "display_name": "Python 3",
   "language": "python",
   "name": "python3"
  },
  "language_info": {
   "codemirror_mode": {
    "name": "ipython",
    "version": 3
   },
   "file_extension": ".py",
   "mimetype": "text/x-python",
   "name": "python",
   "nbconvert_exporter": "python",
   "pygments_lexer": "ipython3",
   "version": "3.11.9"
  }
 },
 "nbformat": 4,
 "nbformat_minor": 5
}
